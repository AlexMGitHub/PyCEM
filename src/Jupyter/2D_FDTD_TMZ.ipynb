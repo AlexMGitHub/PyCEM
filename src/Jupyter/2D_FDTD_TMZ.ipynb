{
 "cells": [
  {
   "cell_type": "markdown",
   "id": "4419ab9b-36b9-41c7-9d56-ca4ca7edd1d1",
   "metadata": {},
   "source": [
    "## **2D FDTD TM<sup>Z</sup> Solver**\n",
    "\n",
    "Python adaptation of John B. Schneider's C program from section 8.4 of his textbook *Understanding the Finite-Difference Time-Domain\n",
    "Method.*  This program simulates a TM<sup>Z</sup> 2D FDTD grid with a Ricker wavelet modeled as a hard source at the center of the grid.\n",
    "\n",
    "Chapter 8 of Schneider's book is located [HERE](https://eecs.wsu.edu/~schneidj/ufdtd/chap8.pdf) and his GitHub source code is available [HERE](https://github.com/john-b-schneider/uFDTD).\n",
    "\n",
    "**NOTE:** The animation has been pre-rendered and saved as *tmzdemo1.html.*  Run the last cell in this notebook to view the animation without re-running the simulation."
   ]
  },
  {
   "cell_type": "code",
   "execution_count": 1,
   "id": "90a5b016-9bc0-4770-9a80-7d3c92fc17a1",
   "metadata": {},
   "outputs": [],
   "source": [
    "class oneDGrid: pass\n",
    "class teZGrid: pass\n",
    "class tmZGrid: pass\n",
    "class threeDGrid: pass\n",
    "\n",
    "\n",
    "class Grid:\n",
    "    def __init__(self):\n",
    "        self.Hx, self.Chxh, self.Chxe = None, None, None\n",
    "        self.Hy, self.Chyh, self.Chye = None, None, None\n",
    "        self.Hz, self.Chzh, self.Chze = None, None, None\n",
    "        self.Ex, self.Cexe, self.Cexh = None, None, None\n",
    "        self.Ey, self.Ceye, self.Ceyh = None, None, None\n",
    "        self.Ez, self.Ceze, self.Cezh = None, None, None\n",
    "        self.SizeX, self.SizeY, self.SizeZ = None, None, None\n",
    "        self.Time, self.MaxTime = None, None\n",
    "        self.Type = None\n",
    "        self.Cdtds = None\n",
    "        \n",
    "\n",
    "def tmzdemo1():\n",
    "    \"\"\"TMz simulation with Ricker source at center of grid.\"\"\"\n",
    "    \n",
    "    g = Grid()\n",
    "\n",
    "    gridInit(g)        # initialize the grid\n",
    "    ezIncInit(g)\n",
    "    \n",
    "    # do time stepping\n",
    "    for g.Time in range(g.MaxTime):\n",
    "        updateH2d(g)      # update magnetic field\n",
    "        updateE2d(g)      # update electric field\n",
    "        g.Ez[g.SizeX // 2, g.SizeY // 2] = ezInc(g.Time, 0.0); # add a source\n",
    "        yield g.Ez, g.Hx, g.Hy"
   ]
  },
  {
   "cell_type": "code",
   "execution_count": 2,
   "id": "ed0f5812-fbc2-4544-93c5-15a6cbfac5a3",
   "metadata": {},
   "outputs": [],
   "source": [
    "import numpy as np\n",
    "\n",
    "SIZEX = 101\n",
    "SIZEY = 81\n",
    "MAXTIME = 300\n",
    "\n",
    "def gridInit(g):\n",
    "    imp0 = 377.0\n",
    "    g.Type = tmZGrid\n",
    "    g.SizeX = SIZEX               # x size of domain\n",
    "    g.SizeY = SIZEY               # y size of domain\n",
    "    g.MaxTime = MAXTIME           # duration of simulation\n",
    "    g.Cdtds = 1.0 / np.sqrt(2.0)  # Courant number\n",
    "\n",
    "    g.Hx = np.zeros((g.SizeX, g.SizeY-1))\n",
    "    g.Chxh = np.ones((g.SizeX, g.SizeY-1))\n",
    "    g.Chxe = np.ones((g.SizeX, g.SizeY-1)) * g.Cdtds / imp0\n",
    "    g.Hy = np.zeros((g.SizeX-1, g.SizeY))\n",
    "    g.Chyh = np.ones((g.SizeX-1, g.SizeY))\n",
    "    g.Chye = np.ones((g.SizeX-1, g.SizeY)) * g.Cdtds / imp0\n",
    "    g.Ez = np.zeros((g.SizeX, g.SizeY))\n",
    "    g.Ceze = np.ones((g.SizeX, g.SizeY))\n",
    "    g.Cezh = np.ones((g.SizeX, g.SizeY)) * g.Cdtds * imp0"
   ]
  },
  {
   "cell_type": "code",
   "execution_count": 3,
   "id": "6adf2a57-d16a-4dca-995f-48b4817fe24a",
   "metadata": {},
   "outputs": [],
   "source": [
    "import sys\n",
    "cdtds = 0\n",
    "ppw = 0\n",
    "\n",
    "\n",
    "def ezIncInit(g):\n",
    "    \"\"\"Initialize source-function variables.\"\"\"\n",
    "    global cdtds, ppw\n",
    "    cdtds = g.Cdtds\n",
    "    ppw = 20\n",
    "\n",
    "\n",
    "def ezInc(time, location):\n",
    "    \"\"\"Calculate source function at given time and location.\"\"\"\n",
    "    global cdtds, ppw\n",
    "    if ppw <= 0:\n",
    "        print(\"ezInc: ezIncInit() must be called before ezInc.\\n\"\n",
    "              \"       Points per wavelength must be positive.\\n\")\n",
    "        sys.exit(-1)\n",
    "\n",
    "    arg = np.pi * ((cdtds * time - location) / ppw - 1.0)\n",
    "    arg = arg * arg\n",
    "\n",
    "    return (1.0 - 2.0 * arg) * np.exp(-arg)"
   ]
  },
  {
   "cell_type": "code",
   "execution_count": 4,
   "id": "a21c4e28-3a4c-4b22-b3db-a089663d3c97",
   "metadata": {},
   "outputs": [],
   "source": [
    "def updateH2d(g):\n",
    "    \"\"\"Update magnetic field.\"\"\"\n",
    "    for mm in range(g.SizeX):\n",
    "        for nn in range(g.SizeY-1):\n",
    "            g.Hx[mm, nn] = g.Chxh[mm, nn] * g.Hx[mm, nn] \\\n",
    "            - g.Chxe[mm, nn] * (g.Ez[mm, nn + 1] - g.Ez[mm, nn])\n",
    "\n",
    "    for mm in range(g.SizeX-1):\n",
    "        for nn in range(g.SizeY):\n",
    "            g.Hy[mm, nn] = g.Chyh[mm, nn] * g.Hy[mm, nn] \\\n",
    "            + g.Chye[mm, nn] * (g.Ez[mm + 1, nn] - g.Ez[mm, nn])\n",
    "\n",
    "\n",
    "def updateE2d(g):\n",
    "    \"\"\"Update electric field.\"\"\"\n",
    "    for mm in range(1, g.SizeX-1):\n",
    "        for nn in range(1, g.SizeY-1):\n",
    "            g.Ez[mm, nn] = g.Ceze[mm, nn] * g.Ez[mm, nn] + \\\n",
    "            g.Cezh[mm, nn] * ((g.Hy[mm, nn] - g.Hy[mm - 1, nn]) - \\\n",
    "            (g.Hx[mm, nn] - g.Hx[mm, nn - 1]))"
   ]
  },
  {
   "cell_type": "markdown",
   "id": "f4f099c7-ba3b-4bf7-b8b8-00fe9112ffbd",
   "metadata": {},
   "source": [
    "### Animation Setup\n",
    "\n",
    "Functions to create animations of the 2D FDTD solvers."
   ]
  },
  {
   "cell_type": "code",
   "execution_count": 1,
   "id": "527fc641-7e7a-4ed7-a1a9-60a13fb89fe6",
   "metadata": {},
   "outputs": [],
   "source": [
    "%matplotlib inline\n",
    "import matplotlib.animation as animation\n",
    "from matplotlib import pyplot as plt, cm\n",
    "from IPython import display\n",
    "from matplotlib import colors\n",
    "plt.style.use('classic')\n",
    "\n",
    "# Defaults in raw2image.m\n",
    "z_norm = 1 \n",
    "decades = 3\n",
    "\n",
    "def log_norm(data):\n",
    "    \"\"\"Return log normalized matrix.\"\"\"\n",
    "    return np.log10(np.abs((data+np.nextafter(0, 1))/z_norm))\n",
    "    \n",
    "def ani_init():\n",
    "    \"\"\"Clear the axes for the animation.\"\"\"\n",
    "    im = ax.imshow(np.zeros((SIZEY, SIZEX)),cmap=cm.jet) # Transpose matrix\n",
    "    plt.colorbar(im, ax=ax)\n",
    "    im.set_clim(-decades, 0)\n",
    "\n",
    "def animate(frame):\n",
    "    \"\"\"Draw the E-field and H-field magnitudes along X-axis at current time step.\"\"\"\n",
    "    Ez, Hx, Hy = next(sim_step)\n",
    "    data = Ez.transpose()\n",
    "    data = log_norm(data)\n",
    "    im = ax.imshow(data, cmap=cm.jet)\n",
    "    im.set_clim(-decades, 0)\n",
    "\n",
    "def html5_video(frames, fname):\n",
    "    \"\"\"Jupyter notebook must have animation converted to HTML5 video to display.\"\"\"\n",
    "    mpl_anim = animation.FuncAnimation(\n",
    "            fig, animate, frames=frames, init_func=ani_init, interval=25\n",
    "        )\n",
    "    html_anim = mpl_anim.to_html5_video()\n",
    "    with open(fname, \"w\") as f:\n",
    "        print(html_anim, file=f)\n",
    "    plt.close(\"all\")  # Ensure plots aren't left open and consuming memory"
   ]
  },
  {
   "cell_type": "code",
   "execution_count": 2,
   "id": "dc43638a-4f75-48af-bb02-44f99d9e7cdf",
   "metadata": {},
   "outputs": [],
   "source": [
    "fname = \"animations/tmzdemo1.html\""
   ]
  },
  {
   "cell_type": "code",
   "execution_count": 51,
   "id": "cb4801a8-cc80-42c7-8b6b-58bc2ddaa106",
   "metadata": {},
   "outputs": [],
   "source": [
    "### WARNING: Very lengthy computation!\n",
    "\n",
    "sim_step = tmzdemo1()\n",
    "fig, ax = plt.subplots() \n",
    "html5_video(MAXTIME, fname)"
   ]
  },
  {
   "cell_type": "code",
   "execution_count": 3,
   "id": "fdd119b9-fe49-4481-a17a-86c6ae3776ed",
   "metadata": {},
   "outputs": [
    {
     "data": {
      "text/html": [
       "\n",
       "        <iframe\n",
       "            width=\"100%\"\n",
       "            height=\"600px\"\n",
       "            src=\"animations/tmzdemo1.html\"\n",
       "            frameborder=\"0\"\n",
       "            allowfullscreen\n",
       "        ></iframe>\n",
       "        "
      ],
      "text/plain": [
       "<IPython.lib.display.IFrame at 0x7f3d9203b990>"
      ]
     },
     "execution_count": 3,
     "metadata": {},
     "output_type": "execute_result"
    }
   ],
   "source": [
    "# Run cell defining fname first, then run this cell to view pre-rendered animation.\n",
    "display.IFrame(fname, '100%', '600px')"
   ]
  },
  {
   "cell_type": "code",
   "execution_count": null,
   "id": "c8812735-c05d-4760-930f-dd0d0b3f8b1b",
   "metadata": {},
   "outputs": [],
   "source": []
  }
 ],
 "metadata": {
  "kernelspec": {
   "display_name": "Python 3",
   "language": "python",
   "name": "python3"
  },
  "language_info": {
   "codemirror_mode": {
    "name": "ipython",
    "version": 3
   },
   "file_extension": ".py",
   "mimetype": "text/x-python",
   "name": "python",
   "nbconvert_exporter": "python",
   "pygments_lexer": "ipython3",
   "version": "3.7.6"
  }
 },
 "nbformat": 4,
 "nbformat_minor": 5
}
