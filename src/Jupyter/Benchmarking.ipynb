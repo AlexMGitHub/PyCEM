{
 "cells": [
  {
   "cell_type": "markdown",
   "id": "e41968f4-61c6-4e4d-a654-8cd19eb54d83",
   "metadata": {},
   "source": [
    "## Benchmarking C Foreign Function Performance\n",
    "\n",
    "I wrote a naive 2D matrix multiplication algorithm using three approaches: pure Python, Python compiled using Numba's JIT compiler, and a C library called using `ctypes`.  These three approaches are compared across multiple matrix dimensions to demonstrate the speed-up obtained using C code.  Numpy matrix multiplication is also included in the comparison to provide a reference to a highly optimized linear algebra library.  The naive implementations are O(n<sup>3</sup>) algorithms and do not utilize any parallelism or code vectorization."
   ]
  },
  {
   "cell_type": "code",
   "execution_count": 56,
   "id": "06805b91-ca1a-4967-a1fd-d974ba8fd6d3",
   "metadata": {},
   "outputs": [],
   "source": [
    "# Standard system imports\n",
    "import ctypes\n",
    "import pathlib\n",
    "\n",
    "# Related third party imports\n",
    "from numba import njit\n",
    "import numpy as np\n",
    "\n",
    "c_lib = ctypes.CDLL(\"../C/lib/libmatrix_mult.so\") # Location of C shared library\n",
    "mat_mult = c_lib.mat_mult\n",
    "\n",
    "mat_mult.argtypes = [ctypes.c_int, ctypes.c_int, ctypes.c_int,\n",
    "                  ctypes.POINTER(ctypes.c_double),\n",
    "                  ctypes.POINTER(ctypes.c_double),\n",
    "                  ctypes.POINTER(ctypes.c_double)]\n",
    "mat_mult.restype = None  # C function returns void\n"
   ]
  },
  {
   "cell_type": "code",
   "execution_count": 57,
   "id": "51456b05-2861-43f2-8e75-3ded23f465ca",
   "metadata": {},
   "outputs": [],
   "source": [
    "def create_mats(out1, inner, out2, rng):\n",
    "    \"\"\"Return 2D Numpy arrays with C double datatype as well as pointers to the arrays.\"\"\"\n",
    "    mat1 = rng.random((out1, inner), dtype=np.double)\n",
    "    mat2 = rng.random((inner, out2), dtype=np.double)\n",
    "    mat3 = np.zeros((out1, out2), dtype=np.double)\n",
    "\n",
    "    mat1_ptr = mat1.ctypes.data_as(ctypes.POINTER(ctypes.c_double))\n",
    "    mat2_ptr = mat2.ctypes.data_as(ctypes.POINTER(ctypes.c_double))\n",
    "    mat3_ptr = mat3.ctypes.data_as(ctypes.POINTER(ctypes.c_double))\n",
    "    \n",
    "    return mat1, mat2, mat3, mat1_ptr, mat2_ptr, mat3_ptr\n",
    "    \n",
    "def c_mat_mult(out1, inner, out2, mat1_ptr, mat2_ptr, mat3_ptr):\n",
    "    \"\"\"Naive matrix multiplication implementation using a C extension.\"\"\"\n",
    "    mat_mult(out1, out2, inner, mat1_ptr, mat2_ptr, mat3_ptr)\n",
    "    \n",
    "def np_mat_mult(mat1, mat2):\n",
    "    \"\"\"Matrix multiplication implemented using Numpy.\"\"\"\n",
    "    return mat1 @ mat2\n",
    "    \n",
    "    \n",
    "def python_mat_mult(out1, inner, out2, mat1, mat2, mat3):\n",
    "    \"\"\"Naive matrix multiplication implementation using Python.\"\"\"\n",
    "    for i in range(out1):\n",
    "        for j in range (out2):\n",
    "            mat3[i][j] = mat1[i][0] * mat2[0][j]\n",
    "            for k in range(1, inner):\n",
    "                mat3[i][j] += mat1[i][k] * mat2[k][j]\n",
    "    return mat3\n",
    "        \n",
    "@njit\n",
    "def numba_mat_mult(out1, inner, out2, mat1, mat2, mat3):\n",
    "    \"\"\"Naive matrix multiplication implementation using Numba's JIT compiler.\n",
    "    \n",
    "    Numba apparently cannot accept pointers to doubles.\n",
    "    \"\"\"\n",
    "    for i in range(out1):\n",
    "        for j in range (out2):\n",
    "            mat3[i][j] = mat1[i][0] * mat2[0][j]\n",
    "            for k in range(1, inner):\n",
    "                mat3[i][j] += mat1[i][k] * mat2[k][j]\n",
    "    return mat3"
   ]
  },
  {
   "cell_type": "code",
   "execution_count": 58,
   "id": "c151b414-0230-499d-bccc-0008d88ea915",
   "metadata": {},
   "outputs": [],
   "source": [
    "# Generate same set of random matrices using seed\n",
    "mat_dim = 100\n",
    "out1 = mat_dim\n",
    "inner = mat_dim\n",
    "out2 = mat_dim\n",
    "\n",
    "def generate_matrices(mat_dim):\n",
    "    rng = np.random.default_rng(12345)\n",
    "    out1 = mat_dim\n",
    "    inner = mat_dim\n",
    "    out2 = mat_dim\n",
    "    mat1, mat2, mat3, mat1_ptr, mat2_ptr, mat3_ptr = create_mats(out1, inner, out2, rng)\n",
    "    return mat1, mat2, mat3, mat1_ptr, mat2_ptr, mat3_ptr"
   ]
  },
  {
   "cell_type": "code",
   "execution_count": 55,
   "id": "f93c5c19-3e4a-4f2c-aca8-1264339e1d36",
   "metadata": {},
   "outputs": [],
   "source": [
    "# Verify all methods return same results\n",
    "mat1, mat2, mat3, mat1_ptr, mat2_ptr, mat3_ptr = generate_matrices(mat_dim)\n",
    "python_result = python_mat_mult(out1, inner, out2, mat1, mat2, mat3)\n",
    "\n",
    "mat1, mat2, mat3, mat1_ptr, mat2_ptr, mat3_ptr = generate_matrices(mat_dim)\n",
    "numpy_result = np_mat_mult(mat1, mat2)\n",
    "\n",
    "mat1, mat2, mat3, mat1_ptr, mat2_ptr, mat3_ptr = generate_matrices(mat_dim)\n",
    "numba_result = numba_mat_mult(out1, inner, out2, mat1, mat2, mat3)\n",
    "\n",
    "mat1, mat2, mat3, mat1_ptr, mat2_ptr, mat3_ptr = generate_matrices(mat_dim)\n",
    "c_mat_mult(out1, inner, out2, mat1_ptr, mat2_ptr, mat3_ptr)\n",
    "c_result = mat3\n",
    "\n",
    "np.testing.assert_allclose(python_result, numpy_result, rtol=0, atol=1e-10)\n",
    "np.testing.assert_allclose(python_result, numba_result, rtol=0, atol=1e-10)\n",
    "np.testing.assert_allclose(python_result, c_result, rtol=0, atol=1e-10)"
   ]
  },
  {
   "cell_type": "code",
   "execution_count": 16,
   "id": "9bc70182-f614-4018-b55a-8653e2c363e5",
   "metadata": {},
   "outputs": [
    {
     "name": "stdout",
     "output_type": "stream",
     "text": [
      "997 µs ± 32 µs per loop (mean ± std. dev. of 7 runs, 1000 loops each)\n",
      "1.34 µs ± 11.2 ns per loop (mean ± std. dev. of 7 runs, 1000000 loops each)\n",
      "2.54 µs ± 18.7 ns per loop (mean ± std. dev. of 7 runs, 100000 loops each)\n",
      "2.61 µs ± 99.7 ns per loop (mean ± std. dev. of 7 runs, 100000 loops each)\n",
      "119 ms ± 1.25 ms per loop (mean ± std. dev. of 7 runs, 10 loops each)\n",
      "10.2 µs ± 20.8 ns per loop (mean ± std. dev. of 7 runs, 100000 loops each)\n",
      "183 µs ± 421 ns per loop (mean ± std. dev. of 7 runs, 10000 loops each)\n",
      "183 µs ± 917 ns per loop (mean ± std. dev. of 7 runs, 10000 loops each)\n",
      "938 ms ± 2.57 ms per loop (mean ± std. dev. of 7 runs, 1 loop each)\n",
      "40 µs ± 1.25 µs per loop (mean ± std. dev. of 7 runs, 10000 loops each)\n",
      "1.45 ms ± 6.96 µs per loop (mean ± std. dev. of 7 runs, 1000 loops each)\n",
      "1.45 ms ± 5.52 µs per loop (mean ± std. dev. of 7 runs, 1000 loops each)\n",
      "7.88 s ± 49.2 ms per loop (mean ± std. dev. of 7 runs, 1 loop each)\n",
      "191 µs ± 33.1 µs per loop (mean ± std. dev. of 7 runs, 1000 loops each)\n",
      "12.2 ms ± 84.5 µs per loop (mean ± std. dev. of 7 runs, 100 loops each)\n",
      "12.2 ms ± 40.7 µs per loop (mean ± std. dev. of 7 runs, 100 loops each)\n"
     ]
    }
   ],
   "source": [
    "python_times = []\n",
    "numpy_times = []\n",
    "numba_times = []\n",
    "c_times = []\n",
    "mat_dims = np.array([10, 50, 100, 200])\n",
    "\n",
    "for mat_dim in mat_dims:\n",
    "    mat1, mat2, mat3, mat1_ptr, mat2_ptr, mat3_ptr = generate_matrices(mat_dim)\n",
    "    run_time = %timeit -o python_mat_mult(mat_dim, mat_dim, mat_dim, mat1, mat2, mat3)\n",
    "    python_times.append(run_time)\n",
    "    run_time = %timeit -o np_mat_mult(mat1, mat2)\n",
    "    numpy_times.append(run_time)\n",
    "    run_time = %timeit -o numba_mat_mult(mat_dim, mat_dim, mat_dim, mat1, mat2, mat3)\n",
    "    numba_times.append(run_time)\n",
    "    run_time = %timeit -o numba_mat_mult(mat_dim, mat_dim, mat_dim, mat1, mat2, mat3)\n",
    "    c_times.append(run_time)"
   ]
  },
  {
   "cell_type": "code",
   "execution_count": 62,
   "id": "e8dd0699-c2ee-43e0-b1b7-434943d09165",
   "metadata": {},
   "outputs": [
    {
     "data": {
      "image/png": "[encoded data removed]",
      "text/plain": [
       "<Figure size 576x396 with 1 Axes>"
      ]
     },
     "metadata": {},
     "output_type": "display_data"
    }
   ],
   "source": [
    "import matplotlib.pyplot as plt \n",
    "plt.style.use('seaborn')\n",
    "\n",
    "# Build the plot\n",
    "bar_width = 0.2\n",
    "x_spacing = np.arange(len(mat_dims))\n",
    "fig, ax = plt.subplots()\n",
    "ax.bar(x_spacing - bar_width*1.5, [x.average for x in python_times], bar_width, label=\"Python\")\n",
    "ax.bar(x_spacing - bar_width*.5, [x.average for x in numba_times], bar_width, label=\"Numba\")\n",
    "ax.bar(x_spacing + bar_width*.5, [x.average for x in c_times], bar_width, label=\"C\")\n",
    "ax.bar(x_spacing + bar_width*1.5, [x.average for x in numpy_times], bar_width, label=\"Numpy\")\n",
    "\n",
    "# Configure plot\n",
    "ax.set_xlabel('Matrix Dimension')\n",
    "ax.set_xticks(x_spacing)\n",
    "ax.set_xticklabels(mat_dims)\n",
    "ax.set_ylabel('Run Time (seconds)')\n",
    "ax.set_yscale('log')\n",
    "ax.set_title('Run Time Comparison')\n",
    "plt.tight_layout()\n",
    "plt.legend()\n",
    "plt.show()"
   ]
  },
  {
   "cell_type": "markdown",
   "id": "a3d251e2-2b52-4ac2-a5c8-b2e969d07c70",
   "metadata": {},
   "source": [
    "## Discussion\n",
    "\n",
    "The above chart demonstrates that pure Python code is the slowest of the four approaches as expected, with Numba and the C code approaching a roughly 3 orders of magnitude speed-up in comparison.  The highly optimized Numpy library is the fastest of the four approaches, and is between 1 and 2 orders of magnitude faster than Numba and C.  Numpy uses either Intel MKL or OpenBLAS accelerated linear algebra libraries, and blows my simple nested FOR loop implementation out of the water.\n",
    "\n",
    "The fact that Numba and the C code are neck-in-neck in terms of run time performance raises the question of whether the C foreign function approach should be discarded: after all, Numba allows the developer to write Python code and only requires a simple function decorator to implement the JIT compiler.\n",
    "\n",
    "However, Numba is quite limited in what Python code it will accept, and finicky about how that Python code is written.  Numba supports a subset of the standard Python library as well as most Numpy functionality, but chokes on everything else.  In my opinion, working around all of Numba's limitations is tedious enough that one might as well just write C code."
   ]
  },
  {
   "cell_type": "code",
   "execution_count": null,
   "id": "80614439-cb0b-4d30-8fab-41f4096aa38c",
   "metadata": {},
   "outputs": [],
   "source": []
  }
 ],
 "metadata": {
  "kernelspec": {
   "display_name": "Python 3 (ipykernel)",
   "language": "python",
   "name": "python3"
  },
  "language_info": {
   "codemirror_mode": {
    "name": "ipython",
    "version": 3
   },
   "file_extension": ".py",
   "mimetype": "text/x-python",
   "name": "python",
   "nbconvert_exporter": "python",
   "pygments_lexer": "ipython3",
   "version": "3.9.7"
  }
 },
 "nbformat": 4,
 "nbformat_minor": 5
}
