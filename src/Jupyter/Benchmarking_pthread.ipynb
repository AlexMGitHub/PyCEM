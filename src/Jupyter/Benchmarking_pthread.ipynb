{
 "cells": [
  {
   "cell_type": "markdown",
   "id": "e41968f4-61c6-4e4d-a654-8cd19eb54d83",
   "metadata": {},
   "source": [
    "## Benchmarking `pthread` Performance\n",
    "\n",
    "I wrote C functions that perform useless operations on matrices.  Specifically, the functions accept a pointer to a 2D array and set the value of every element in the array to its array index.  The goal of this exercise is to demonstrate that a truly parallel multithreaded C routine can be called from Python."
   ]
  },
  {
   "cell_type": "code",
   "execution_count": 29,
   "id": "49b1eedf-9fcf-4c97-bb81-3356ee047da3",
   "metadata": {},
   "outputs": [],
   "source": [
    "# Standard system imports\n",
    "import ctypes\n",
    "import pathlib\n",
    "\n",
    "# Related third party imports\n",
    "import numpy as np\n",
    "\n",
    "c_lib = ctypes.CDLL(\"../C/lib/libbenchmarking.so\") # Location of C shared library"
   ]
  },
  {
   "cell_type": "markdown",
   "id": "93813d52-a570-4001-9dc3-82305cf27495",
   "metadata": {},
   "source": [
    "### Test Serial Routine\n",
    "\n",
    "First, I wrote a simple function that sets the values in the array serially.  This is the function that will be timed as a baseline.  To ensure that the routine operates as expected, I generate a small 4x4 Numpy array of zeros and pass it to the C function `serial_routine`."
   ]
  },
  {
   "cell_type": "code",
   "execution_count": 30,
   "id": "fa1098e2-1d03-4170-965a-de70185a3663",
   "metadata": {},
   "outputs": [
    {
     "name": "stdout",
     "output_type": "stream",
     "text": [
      "Before:\n",
      "[[0. 0. 0. 0.]\n",
      " [0. 0. 0. 0.]\n",
      " [0. 0. 0. 0.]\n",
      " [0. 0. 0. 0.]]\n",
      "\n",
      "After:\n",
      "[[ 0.  1.  2.  3.]\n",
      " [ 4.  5.  6.  7.]\n",
      " [ 8.  9. 10. 11.]\n",
      " [12. 13. 14. 15.]]\n"
     ]
    }
   ],
   "source": [
    "# Set data types of serial C function's arguments and return value\n",
    "serial_routine = c_lib.serial_routine\n",
    "serial_routine.argtypes = [ctypes.c_int, ctypes.c_int, ctypes.POINTER(ctypes.c_double)]\n",
    "serial_routine.restype = None  # C function returns void\n",
    "\n",
    "# Generate a 4x4 matrix of zeros and run one repetition\n",
    "mat_dim = 4\n",
    "reps = 1\n",
    "mat = np.zeros((mat_dim, mat_dim), dtype=np.double)\n",
    "mat_ptr = mat.ctypes.data_as(ctypes.POINTER(ctypes.c_double))\n",
    "\n",
    "# Print results\n",
    "print(\"Before:\")\n",
    "print(mat)\n",
    "serial_routine(reps, mat_dim, mat_ptr)\n",
    "print(\"\\nAfter:\")\n",
    "print(mat)"
   ]
  },
  {
   "cell_type": "markdown",
   "id": "a4f69a31-9581-49df-b8aa-de181a32d5c9",
   "metadata": {},
   "source": [
    "### Test Parallel Routine\n",
    "\n",
    "The parallel routine is similar to the serial routine, but it only operates over a range of rows of the matrix.  This allows multiple threads to operate on the matrix simultaneously by accessing different rows of the matrix.\n",
    "\n",
    "When writing the parallel routine I found that `pthread_create()` will only accept a single argument to the function passed to it.  My parallel function has multiple arguments, and so I must create a struct to contain all of the arguments that I want to pass.  A pointer to the struct can then be passed to `pthread_create()` (although it must be cast as a pointer to void).\n",
    "\n",
    "This seems simple enough, but one of my arguments is a pointer to a variable length array (VLA) of doubles.  C structs do not accept pointers to VLAs, and I spent many hours searching for a workaround.  I finally found [an obscure Stackoverflow post](https://stackoverflow.com/questions/63220508/how-can-i-define-a-pointer-to-variable-length-array-vla-in-a-struct-or-equiva) that had a working solution.  I'm still not entirely sure that I understand *why* it works, but it does work.\n",
    "\n",
    "First, I verify that the struct will be accepted by `parallel_routine()` by initializing the struct in a C routine called `init_struct()` which then calls `parallel_routine()` with a pointer to the struct as its argument:"
   ]
  },
  {
   "cell_type": "code",
   "execution_count": 3,
   "id": "0a287d74-1cff-4066-bf84-582b2e3858bd",
   "metadata": {},
   "outputs": [
    {
     "name": "stdout",
     "output_type": "stream",
     "text": [
      "Before:\n",
      "[[0. 0. 0. 0.]\n",
      " [0. 0. 0. 0.]\n",
      " [0. 0. 0. 0.]\n",
      " [0. 0. 0. 0.]]\n",
      "\n",
      "After:\n",
      "[[0. 0. 0. 0.]\n",
      " [4. 5. 6. 7.]\n",
      " [0. 0. 0. 0.]\n",
      " [0. 0. 0. 0.]]\n"
     ]
    }
   ],
   "source": [
    "# Set data types of C routine to create a struct and pass it to parallel_routine()\n",
    "init_struct = c_lib.init_struct\n",
    "init_struct.argtypes = [ctypes.c_int, ctypes.c_int, ctypes.c_int, ctypes.c_int, ctypes.POINTER(ctypes.c_double)]\n",
    "init_struct.restype = None  # C function returns void\n",
    "\n",
    "# Generate a 4x4 matrix of zeros and run one repetition, only modify second row of matrix\n",
    "mat_dim = 4\n",
    "reps = 1\n",
    "start_row = 1\n",
    "end_row = 2\n",
    "\n",
    "mat = np.zeros((mat_dim, mat_dim), dtype=np.double)\n",
    "mat_ptr = mat.ctypes.data_as(ctypes.POINTER(ctypes.c_double))\n",
    "\n",
    "# Print results\n",
    "print(\"Before:\")\n",
    "print(mat)\n",
    "init_struct(reps, mat_dim, start_row, end_row, mat_ptr)\n",
    "print(\"\\nAfter:\")\n",
    "print(mat)"
   ]
  },
  {
   "cell_type": "markdown",
   "id": "33a0ba5e-89f4-4eae-b3e1-b1a65bc270d3",
   "metadata": {},
   "source": [
    "Next, I experiment with creating the struct in Python code.  `ctypes` allows a struct to be defined as a class that inherits from `ctypes.Structure`.  The struct can be created in a C routine as shown above, but both methods might be useful and so I created a Python struct class **MatData** to mimic the **mat_data** struct defined in the C code.  I was concerned as to whether the Python version of the struct would work if I passed a pointer to double as the \"mat\" argument, but it appears to work without issue:"
   ]
  },
  {
   "cell_type": "code",
   "execution_count": 4,
   "id": "4ec18a50-f1ee-4035-969f-cd6db6080fe3",
   "metadata": {},
   "outputs": [
    {
     "name": "stdout",
     "output_type": "stream",
     "text": [
      "Before:\n",
      "[[0. 0. 0. 0.]\n",
      " [0. 0. 0. 0.]\n",
      " [0. 0. 0. 0.]\n",
      " [0. 0. 0. 0.]]\n",
      "\n",
      "After:\n",
      "[[ 0.  0.  0.  0.]\n",
      " [ 0.  0.  0.  0.]\n",
      " [ 8.  9. 10. 11.]\n",
      " [ 0.  0.  0.  0.]]\n"
     ]
    }
   ],
   "source": [
    "class MatData(ctypes.Structure):\n",
    "    \"\"\"Creates a mat_data struct.\"\"\"\n",
    "\n",
    "    _fields_ = [('reps', ctypes.c_int),\n",
    "                ('dims', ctypes.c_int),\n",
    "                ('mat', ctypes.POINTER(ctypes.c_double)),\n",
    "                ('row_start', ctypes.c_int),\n",
    "                ('row_end', ctypes.c_int)]\n",
    "    \n",
    "\n",
    "# Generate a 4x4 matrix of zeros and run one repetition, only modify third row of matrix\n",
    "mat_dim = 4\n",
    "reps = 1\n",
    "start_row = 2\n",
    "end_row = 3\n",
    "    \n",
    "mat = np.zeros((mat_dim, mat_dim), dtype=np.double)\n",
    "mat_ptr = mat.ctypes.data_as(ctypes.POINTER(ctypes.c_double))\n",
    "\n",
    "# Instantiate struct\n",
    "mat_data = MatData()\n",
    "mat_data.reps = reps\n",
    "mat_data.dims = mat_dim\n",
    "mat_data.mat = mat_ptr\n",
    "mat_data.row_start = start_row # Modify only third row of matrix\n",
    "mat_data.row_end = end_row\n",
    "\n",
    "# Set data type of parallel routine to accept a pointer\n",
    "parallel_routine = c_lib.parallel_routine\n",
    "parallel_routine.argtypes = [ctypes.POINTER(MatData)]\n",
    "parallel_routine.restype = None  # C function returns void\n",
    "\n",
    "print(\"Before:\")\n",
    "print(mat)\n",
    "parallel_routine(mat_data)\n",
    "print(\"\\nAfter:\")\n",
    "print(mat)"
   ]
  },
  {
   "cell_type": "markdown",
   "id": "2b2fb020-ccf3-4f8d-9e46-7d4a98ad8f36",
   "metadata": {},
   "source": [
    "### Benchmarking: Serial vs. Parallel Implementations\n",
    "\n",
    "Finally, I wrote a multithreading routine that accepts the number of repetitions, the matrix dimension, them matrix pointer, and the number of desired threads.  Each thread will be supplied the `parallel_routine()` function and a `mat_data` struct that specifies which rows of the matrix that the thread should operate on.\n",
    "\n",
    "Before benchmarking we'll test the routine with a small matrix:"
   ]
  },
  {
   "cell_type": "code",
   "execution_count": 6,
   "id": "5e40a630-390f-491a-a2fb-cbcb1b72d0e1",
   "metadata": {},
   "outputs": [
    {
     "name": "stdout",
     "output_type": "stream",
     "text": [
      "Before:\n",
      "[[0. 0. 0. 0.]\n",
      " [0. 0. 0. 0.]\n",
      " [0. 0. 0. 0.]\n",
      " [0. 0. 0. 0.]]\n",
      "\n",
      "After:\n",
      "[[ 0.  1.  2.  3.]\n",
      " [ 4.  5.  6.  7.]\n",
      " [ 8.  9. 10. 11.]\n",
      " [12. 13. 14. 15.]]\n"
     ]
    }
   ],
   "source": [
    "# Set data types of multithreading routine arguments\n",
    "multithreading_routine = c_lib.multithreading_routine\n",
    "multithreading_routine.argtypes = [ctypes.c_int, ctypes.c_int, ctypes.c_int, ctypes.POINTER(ctypes.c_double)]\n",
    "multithreading_routine.restype = None  # C function returns void\n",
    "\n",
    "# Generate a 4x4 matrix of zeros and run one repetition using 4 threads\n",
    "mat_dim = 4\n",
    "reps = 1\n",
    "n_threads = 4\n",
    "\n",
    "mat = np.zeros((mat_dim, mat_dim), dtype=np.double)\n",
    "mat_ptr = mat.ctypes.data_as(ctypes.POINTER(ctypes.c_double))\n",
    "\n",
    "print(\"Before:\")\n",
    "print(mat)\n",
    "multithreading_routine(reps, mat_dim, n_threads, mat_ptr)\n",
    "print(\"\\nAfter:\")\n",
    "print(mat)"
   ]
  },
  {
   "cell_type": "markdown",
   "id": "4b6093a4-b1a6-43df-baa0-404e02bb1cbd",
   "metadata": {},
   "source": [
    "The routine appears to work, and so now the serial implementation will be compared with the parallel implementation using 1, 2, 3, and 4 threads.  The matrix dimensions are 1000x1000, and the routines repeat 10,000 times.  The repeated calculations are useless, but the point is to occupy enough computation time to justify the overhead of creating threads."
   ]
  },
  {
   "cell_type": "code",
   "execution_count": 17,
   "id": "7acb2e98-03ec-429f-ba64-18df290d7252",
   "metadata": {},
   "outputs": [
    {
     "name": "stdout",
     "output_type": "stream",
     "text": [
      "3.55 s ± 109 ms per loop (mean ± std. dev. of 7 runs, 1 loop each)\n"
     ]
    }
   ],
   "source": [
    "run_times = []\n",
    "mat_dim = 1000\n",
    "reps = 10000\n",
    "\n",
    "mat = np.zeros((mat_dim, mat_dim), dtype=np.double)\n",
    "mat_ptr = mat.ctypes.data_as(ctypes.POINTER(ctypes.c_double))\n",
    "\n",
    "run_time = %timeit -o serial_routine(reps, mat_dim, mat_ptr)\n",
    "run_times.append(run_time)"
   ]
  },
  {
   "cell_type": "code",
   "execution_count": 12,
   "id": "6ad0a650-aea8-4bb3-b666-bfbab2ee6d41",
   "metadata": {},
   "outputs": [
    {
     "name": "stdout",
     "output_type": "stream",
     "text": [
      "3.69 s ± 43.5 ms per loop (mean ± std. dev. of 7 runs, 1 loop each)\n",
      "2.4 s ± 125 ms per loop (mean ± std. dev. of 7 runs, 1 loop each)\n",
      "1.61 s ± 80.8 ms per loop (mean ± std. dev. of 7 runs, 1 loop each)\n",
      "1.27 s ± 42.7 ms per loop (mean ± std. dev. of 7 runs, 1 loop each)\n"
     ]
    }
   ],
   "source": [
    "for n_threads in range(1, 5):\n",
    "    run_time = %timeit -o multithreading_routine(reps, mat_dim, n_threads, mat_ptr)\n",
    "    run_times.append(run_time)"
   ]
  },
  {
   "cell_type": "code",
   "execution_count": 28,
   "id": "af50e11c-b9bf-460c-b74b-d2bc780d6848",
   "metadata": {},
   "outputs": [
    {
     "data": {
      "image/png": "[encoded data removed]",
      "text/plain": [
       "<Figure size 576x396 with 1 Axes>"
      ]
     },
     "metadata": {},
     "output_type": "display_data"
    }
   ],
   "source": [
    "import matplotlib.pyplot as plt \n",
    "plt.style.use('seaborn')\n",
    "\n",
    "# Build the plot\n",
    "bar_width = 0.2\n",
    "x_spacing = np.arange(5)\n",
    "fig, ax = plt.subplots()\n",
    "ax.bar(x_spacing, [x.average for x in run_times], bar_width)\n",
    "\n",
    "# Configure plot\n",
    "ax.set_xlabel('Number of Threads')\n",
    "ax.set_xticks(x_spacing)\n",
    "ax.set_xticklabels(x_spacing)\n",
    "ax.set_ylabel('Run Time (seconds)')\n",
    "ax.set_title('Run Time Comparison')\n",
    "plt.tight_layout()\n",
    "plt.show()"
   ]
  },
  {
   "cell_type": "markdown",
   "id": "0ad502c2-a6f7-4f4c-8c47-b786ed35dc17",
   "metadata": {},
   "source": [
    "### Discussion\n",
    "\n",
    "The multithreading routine run with a single thread is slightly slower than the serial routine (0 threads), as expected.  Creating a single thread adds some overhead but otherwise provides no computational speed-up.  As more threads are added the run time does decrease.  This demonstrates that truly parallel multithreading can be accomplished in Python by calling C functions that utilize the `pthread` multithreading library."
   ]
  },
  {
   "cell_type": "code",
   "execution_count": null,
   "id": "c9c7d4a2-ab16-4a0b-bcbc-ecb4aa7b7796",
   "metadata": {},
   "outputs": [],
   "source": []
  }
 ],
 "metadata": {
  "kernelspec": {
   "display_name": "Python 3 (ipykernel)",
   "language": "python",
   "name": "python3"
  },
  "language_info": {
   "codemirror_mode": {
    "name": "ipython",
    "version": 3
   },
   "file_extension": ".py",
   "mimetype": "text/x-python",
   "name": "python",
   "nbconvert_exporter": "python",
   "pygments_lexer": "ipython3",
   "version": "3.9.7"
  }
 },
 "nbformat": 4,
 "nbformat_minor": 5
}
