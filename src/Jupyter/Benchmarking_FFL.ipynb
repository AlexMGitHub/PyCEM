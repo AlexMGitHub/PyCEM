{
 "cells": [
  {
   "cell_type": "markdown",
   "id": "e41968f4-61c6-4e4d-a654-8cd19eb54d83",
   "metadata": {},
   "source": [
    "## Benchmarking C Foreign Function Performance\n",
    "\n",
    "I wrote a naive 2D matrix multiplication algorithm using four approaches: pure Python, Python compiled using Numba's JIT compiler, and two C functions called using `ctypes`.  These four approaches are compared across multiple matrix dimensions to demonstrate the speed-up obtained using C code.  Numpy matrix multiplication is also included in the comparison to provide a reference to a highly optimized linear algebra library.  The naive implementations are O(n<sup>3</sup>) algorithms and do not utilize any parallelism or code vectorization.\n",
    "\n",
    "The two C functions are defined in the next cell.  The only difference between them is the order of the nested FOR loops.  The Python, Numba, and first C implementations use an i-j-k loop order.  The second C function swaps the j and k FOR loops to i-k-j order, and should benefit from spatial locality as explained in this [Wikipedia article](https://en.wikipedia.org/wiki/Locality_of_reference#Matrix_multiplication).  "
   ]
  },
  {
   "cell_type": "code",
   "execution_count": 1,
   "id": "06805b91-ca1a-4967-a1fd-d974ba8fd6d3",
   "metadata": {},
   "outputs": [],
   "source": [
    "# Standard system imports\n",
    "import ctypes\n",
    "import pathlib\n",
    "\n",
    "# Related third party imports\n",
    "from numba import njit\n",
    "import numpy as np\n",
    "\n",
    "c_lib = ctypes.CDLL(\"../C/lib/libbenchmarking.so\") # Location of C shared library\n",
    "\n",
    "# C function implemented with i-j-k loop order.\n",
    "mat_mult = c_lib.mat_mult\n",
    "mat_mult.argtypes = [ctypes.c_int, ctypes.c_int, ctypes.c_int,\n",
    "                  ctypes.POINTER(ctypes.c_double),\n",
    "                  ctypes.POINTER(ctypes.c_double),\n",
    "                  ctypes.POINTER(ctypes.c_double)]\n",
    "mat_mult.restype = None  # C function returns void\n",
    "\n",
    "# C function implemented with i-k-j loop order.\n",
    "mat_mult_ikj = c_lib.mat_mult_ikj\n",
    "mat_mult_ikj.argtypes = [ctypes.c_int, ctypes.c_int, ctypes.c_int,\n",
    "                  ctypes.POINTER(ctypes.c_double),\n",
    "                  ctypes.POINTER(ctypes.c_double),\n",
    "                  ctypes.POINTER(ctypes.c_double)]\n",
    "mat_mult_ikj.restype = None  # C function returns void"
   ]
  },
  {
   "cell_type": "code",
   "execution_count": 2,
   "id": "51456b05-2861-43f2-8e75-3ded23f465ca",
   "metadata": {},
   "outputs": [],
   "source": [
    "def create_mats(out1, inner, out2, rng):\n",
    "    \"\"\"Return 2D Numpy arrays with C double datatype as well as pointers to the arrays.\"\"\"\n",
    "    mat1 = rng.random((out1, inner), dtype=np.double)\n",
    "    mat2 = rng.random((inner, out2), dtype=np.double)\n",
    "    mat3 = np.zeros((out1, out2), dtype=np.double)\n",
    "\n",
    "    mat1_ptr = mat1.ctypes.data_as(ctypes.POINTER(ctypes.c_double))\n",
    "    mat2_ptr = mat2.ctypes.data_as(ctypes.POINTER(ctypes.c_double))\n",
    "    mat3_ptr = mat3.ctypes.data_as(ctypes.POINTER(ctypes.c_double))\n",
    "    \n",
    "    return mat1, mat2, mat3, mat1_ptr, mat2_ptr, mat3_ptr\n",
    "    \n",
    "def c_mat_mult(out1, inner, out2, mat1_ptr, mat2_ptr, mat3_ptr):\n",
    "    \"\"\"Naive matrix multiplication implementation using a C extension.\"\"\"\n",
    "    mat_mult(out1, out2, inner, mat1_ptr, mat2_ptr, mat3_ptr)\n",
    "    \n",
    "def c_mat_mult_ikj(out1, inner, out2, mat1_ptr, mat2_ptr, mat3_ptr):\n",
    "    \"\"\"Naive matrix multiplication implementation using a C extension.\n",
    "    \n",
    "    FOR loops re-ordered to reduce cache misses (i-k-j order).\n",
    "    \"\"\"\n",
    "    mat_mult_ikj(out1, out2, inner, mat1_ptr, mat2_ptr, mat3_ptr)\n",
    "    \n",
    "def np_mat_mult(mat1, mat2):\n",
    "    \"\"\"Matrix multiplication implemented using Numpy.\"\"\"\n",
    "    return mat1 @ mat2\n",
    "    \n",
    "    \n",
    "def python_mat_mult(out1, inner, out2, mat1, mat2, mat3):\n",
    "    \"\"\"Naive matrix multiplication implementation using Python.\"\"\"\n",
    "    for i in range(out1):\n",
    "        for j in range (out2):\n",
    "            mat3[i][j] = mat1[i][0] * mat2[0][j]\n",
    "            for k in range(1, inner):\n",
    "                mat3[i][j] += mat1[i][k] * mat2[k][j]\n",
    "    return mat3\n",
    "        \n",
    "@njit\n",
    "def numba_mat_mult(out1, inner, out2, mat1, mat2, mat3):\n",
    "    \"\"\"Naive matrix multiplication implementation using Numba's JIT compiler.\n",
    "    \n",
    "    Numba apparently cannot accept pointers to doubles.\n",
    "    \"\"\"\n",
    "    for i in range(out1):\n",
    "        for j in range (out2):\n",
    "            mat3[i][j] = mat1[i][0] * mat2[0][j]\n",
    "            for k in range(1, inner):\n",
    "                mat3[i][j] += mat1[i][k] * mat2[k][j]\n",
    "    return mat3"
   ]
  },
  {
   "cell_type": "code",
   "execution_count": 3,
   "id": "c151b414-0230-499d-bccc-0008d88ea915",
   "metadata": {},
   "outputs": [],
   "source": [
    "# Generate same set of random matrices using seed\n",
    "mat_dim = 100\n",
    "out1 = mat_dim\n",
    "inner = mat_dim\n",
    "out2 = mat_dim\n",
    "\n",
    "def generate_matrices(mat_dim):\n",
    "    rng = np.random.default_rng(12345)\n",
    "    out1 = mat_dim\n",
    "    inner = mat_dim\n",
    "    out2 = mat_dim\n",
    "    mat1, mat2, mat3, mat1_ptr, mat2_ptr, mat3_ptr = create_mats(out1, inner, out2, rng)\n",
    "    return mat1, mat2, mat3, mat1_ptr, mat2_ptr, mat3_ptr"
   ]
  },
  {
   "cell_type": "code",
   "execution_count": 4,
   "id": "f93c5c19-3e4a-4f2c-aca8-1264339e1d36",
   "metadata": {},
   "outputs": [],
   "source": [
    "# Verify all methods return same results\n",
    "mat1, mat2, mat3, mat1_ptr, mat2_ptr, mat3_ptr = generate_matrices(mat_dim)\n",
    "python_result = python_mat_mult(out1, inner, out2, mat1, mat2, mat3)\n",
    "\n",
    "mat1, mat2, mat3, mat1_ptr, mat2_ptr, mat3_ptr = generate_matrices(mat_dim)\n",
    "numpy_result = np_mat_mult(mat1, mat2)\n",
    "\n",
    "mat1, mat2, mat3, mat1_ptr, mat2_ptr, mat3_ptr = generate_matrices(mat_dim)\n",
    "numba_result = numba_mat_mult(out1, inner, out2, mat1, mat2, mat3) # JIT compiler will compile code on first call to function\n",
    "\n",
    "mat1, mat2, mat3, mat1_ptr, mat2_ptr, mat3_ptr = generate_matrices(mat_dim)\n",
    "c_mat_mult(out1, inner, out2, mat1_ptr, mat2_ptr, mat3_ptr)\n",
    "c_result = mat3\n",
    "\n",
    "mat1, mat2, mat3, mat1_ptr, mat2_ptr, mat3_ptr = generate_matrices(mat_dim)\n",
    "c_mat_mult_ikj(out1, inner, out2, mat1_ptr, mat2_ptr, mat3_ptr)\n",
    "c_result_ikj = mat3\n",
    "\n",
    "# Compare results; should be approximately equal within some tolerance\n",
    "np.testing.assert_allclose(python_result, numpy_result, rtol=0, atol=1e-10)\n",
    "np.testing.assert_allclose(python_result, numba_result, rtol=0, atol=1e-10)\n",
    "np.testing.assert_allclose(python_result, c_result, rtol=0, atol=1e-10)\n",
    "np.testing.assert_allclose(python_result, c_result_ikj, rtol=0, atol=1e-10)"
   ]
  },
  {
   "cell_type": "code",
   "execution_count": 5,
   "id": "9bc70182-f614-4018-b55a-8653e2c363e5",
   "metadata": {},
   "outputs": [
    {
     "name": "stdout",
     "output_type": "stream",
     "text": [
      "698 µs ± 24 µs per loop (mean ± std. dev. of 7 runs, 1000 loops each)\n",
      "1.47 µs ± 32.1 ns per loop (mean ± std. dev. of 7 runs, 1000000 loops each)\n",
      "2.48 µs ± 9.67 ns per loop (mean ± std. dev. of 7 runs, 100000 loops each)\n",
      "1.95 µs ± 25.7 ns per loop (mean ± std. dev. of 7 runs, 1000000 loops each)\n",
      "1.92 µs ± 9.6 ns per loop (mean ± std. dev. of 7 runs, 1000000 loops each)\n",
      "82.6 ms ± 477 µs per loop (mean ± std. dev. of 7 runs, 10 loops each)\n",
      "6.34 µs ± 220 ns per loop (mean ± std. dev. of 7 runs, 100000 loops each)\n",
      "184 µs ± 5.48 µs per loop (mean ± std. dev. of 7 runs, 10000 loops each)\n",
      "99.7 µs ± 456 ns per loop (mean ± std. dev. of 7 runs, 10000 loops each)\n",
      "48.3 µs ± 292 ns per loop (mean ± std. dev. of 7 runs, 10000 loops each)\n",
      "656 ms ± 5.76 ms per loop (mean ± std. dev. of 7 runs, 1 loop each)\n",
      "17.9 µs ± 922 ns per loop (mean ± std. dev. of 7 runs, 100000 loops each)\n",
      "1.45 ms ± 10.9 µs per loop (mean ± std. dev. of 7 runs, 1000 loops each)\n",
      "985 µs ± 5.4 µs per loop (mean ± std. dev. of 7 runs, 1000 loops each)\n",
      "338 µs ± 4.74 µs per loop (mean ± std. dev. of 7 runs, 1000 loops each)\n",
      "5.27 s ± 14.4 ms per loop (mean ± std. dev. of 7 runs, 1 loop each)\n",
      "111 µs ± 447 ns per loop (mean ± std. dev. of 7 runs, 10000 loops each)\n",
      "12.2 ms ± 90.8 µs per loop (mean ± std. dev. of 7 runs, 100 loops each)\n",
      "8.77 ms ± 32.3 µs per loop (mean ± std. dev. of 7 runs, 100 loops each)\n",
      "2.81 ms ± 33.9 µs per loop (mean ± std. dev. of 7 runs, 100 loops each)\n"
     ]
    }
   ],
   "source": [
    "# Use timeit to compare the approaches\n",
    "python_times = []\n",
    "numpy_times = []\n",
    "numba_times = []\n",
    "c_times = []\n",
    "c_times_ikj = []\n",
    "mat_dims = np.array([10, 50, 100, 200])\n",
    "\n",
    "for mat_dim in mat_dims:\n",
    "    mat1, mat2, mat3, mat1_ptr, mat2_ptr, mat3_ptr = generate_matrices(mat_dim)\n",
    "    run_time = %timeit -o python_mat_mult(mat_dim, mat_dim, mat_dim, mat1, mat2, mat3)\n",
    "    python_times.append(run_time)\n",
    "    run_time = %timeit -o np_mat_mult(mat1, mat2)\n",
    "    numpy_times.append(run_time)\n",
    "    run_time = %timeit -o numba_mat_mult(mat_dim, mat_dim, mat_dim, mat1, mat2, mat3)\n",
    "    numba_times.append(run_time)\n",
    "    run_time = %timeit -o c_mat_mult(mat_dim, mat_dim, mat_dim, mat1_ptr, mat2_ptr, mat3_ptr)\n",
    "    c_times.append(run_time)\n",
    "    run_time = %timeit -o c_mat_mult_ikj(mat_dim, mat_dim, mat_dim, mat1_ptr, mat2_ptr, mat3_ptr)\n",
    "    c_times_ikj.append(run_time)"
   ]
  },
  {
   "cell_type": "code",
   "execution_count": 7,
   "id": "e8dd0699-c2ee-43e0-b1b7-434943d09165",
   "metadata": {},
   "outputs": [
    {
     "data": {
      "image/png": "[encoded data removed]",
      "text/plain": [
       "<Figure size 1152x792 with 1 Axes>"
      ]
     },
     "metadata": {},
     "output_type": "display_data"
    }
   ],
   "source": [
    "import matplotlib.pyplot as plt \n",
    "plt.style.use('seaborn')\n",
    "\n",
    "# Build the plot\n",
    "bar_width = 0.15\n",
    "x_spacing = np.arange(len(mat_dims))\n",
    "fig, ax = plt.subplots(dpi=72*2)\n",
    "ax.bar(x_spacing - bar_width*2.0, [x.average for x in python_times], bar_width, label=\"Python\")\n",
    "ax.bar(x_spacing - bar_width*1.0, [x.average for x in numba_times], bar_width, label=\"Numba\")\n",
    "ax.bar(x_spacing + bar_width*0.0, [x.average for x in c_times], bar_width, label=\"C\")\n",
    "ax.bar(x_spacing + bar_width*1.0, [x.average for x in c_times_ikj], bar_width, label=\"C (i-k-j)\")\n",
    "ax.bar(x_spacing + bar_width*2.0, [x.average for x in numpy_times], bar_width, label=\"Numpy\")\n",
    "\n",
    "# Configure plot\n",
    "ax.set_xlabel('Matrix Dimension')\n",
    "ax.set_xticks(x_spacing)\n",
    "ax.set_xticklabels(mat_dims)\n",
    "ax.set_ylabel('Run Time (seconds)')\n",
    "ax.set_yscale('log')\n",
    "ax.set_title('Run Time Comparison')\n",
    "plt.tight_layout()\n",
    "plt.legend()\n",
    "plt.show()"
   ]
  },
  {
   "cell_type": "markdown",
   "id": "a3d251e2-2b52-4ac2-a5c8-b2e969d07c70",
   "metadata": {},
   "source": [
    "## Discussion\n",
    "\n",
    "The above chart demonstrates that pure Python code is the slowest of the approaches as expected, with Numba and the C code approaching a roughly 3 orders of magnitude speed-up in comparison.  The highly optimized Numpy library is the fastest of the approaches, and is between 1 and 2 orders of magnitude faster than Numba and C.  Numpy uses either Intel MKL or OpenBLAS accelerated linear algebra libraries, and blows my simple nested FOR loop implementation out of the water.\n",
    "\n",
    "The Numba code's run time is consistently about 50% longer than the equivalent C code run time with larger matrices.  This is still pretty good compared to pure Python code, and raises the question of whether the C foreign function approach should be discarded: after all, Numba allows the developer to stick to writing Python code and only requires a simple function decorator to implement the JIT compiler.  \n",
    "\n",
    "However, Numba is quite limited in what Python code it will accept and finicky about how that Python code is written.  Numba supports a subset of the standard Python library as well as most Numpy functionality, but chokes on everything else.  Using Numba might be a good first choice if working around all of its limitations doesn't become too tedious.  Otherwise, one might as well just write C code.  The superior performance of C over Numba will also become significant for large computation-intensive problems.\n",
    "\n",
    "Finally, the version of the C code with re-ordered FOR loops (i-k-j) consistently outperforms the poorly-designed C code by a factor of 3 with large matrices!  This demonstrates that the cache misses really do become a significant drag on performance."
   ]
  },
  {
   "cell_type": "code",
   "execution_count": null,
   "id": "de02ac5f-18cc-4840-b084-cdc3a99d6823",
   "metadata": {},
   "outputs": [],
   "source": []
  }
 ],
 "metadata": {
  "kernelspec": {
   "display_name": "Python 3 (ipykernel)",
   "language": "python",
   "name": "python3"
  },
  "language_info": {
   "codemirror_mode": {
    "name": "ipython",
    "version": 3
   },
   "file_extension": ".py",
   "mimetype": "text/x-python",
   "name": "python",
   "nbconvert_exporter": "python",
   "pygments_lexer": "ipython3",
   "version": "3.9.7"
  }
 },
 "nbformat": 4,
 "nbformat_minor": 5
}
